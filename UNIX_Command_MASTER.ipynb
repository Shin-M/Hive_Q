{
 "cells": [
  {
   "cell_type": "markdown",
   "metadata": {},
   "source": [
    "# UNIXコマンド 試験\n",
    "この試験ではUNIXシェルを利用します。  \n",
    "Windows環境の場合や何らかの理由でターミナルアプリケーションが利用できない場合は講師に相談してください。\n",
    "\n",
    "参考資料の利用は自由です。利用しても構いません。  \n",
    "\n",
    "試験時間は50分です。"
   ]
  },
  {
   "cell_type": "markdown",
   "metadata": {},
   "source": [
    "## この試験の注意事項\n",
    "この試験ではコマンドを実行した結果を利用して採点します。  \n",
    "そのため、コマンドの入力後に `Shift + Return`をするのを忘れないようにしてください。  \n",
    "また、Jupyter Notebook上でコマンドを実行するには、入力欄の先頭に`%%bash`をつける必要があります。  \n",
    "以下にサンプルを掲載しますので、このサンプルに従ってやってみてください。  "
   ]
  },
  {
   "cell_type": "code",
   "execution_count": 23,
   "metadata": {},
   "outputs": [
    {
     "name": "stdout",
     "output_type": "stream",
     "text": [
      "uid=2000(acque2two) gid=2000(students) groups=2000(students),1900(tutors) context=system_u:system_r:unconfined_service_t:s0\n",
      " 05:35:26 up 25 min,  1 user,  load average: 0.00, 0.01, 0.05\n",
      "USER     TTY      FROM             LOGIN@   IDLE   JCPU   PCPU WHAT\n",
      "acque_2t pts/0    173.194.93.164   05:10   24:30   1.01s  1.00s top\n"
     ]
    }
   ],
   "source": [
    "%%bash\n",
    "\n",
    "# このJupyter Notebookを実行しているユーザ情報を表示\n",
    "id\n",
    "\n",
    "# このコンピュータにログインしているユーザ名を表示\n",
    "w"
   ]
  },
  {
   "cell_type": "markdown",
   "metadata": {},
   "source": [
    "---"
   ]
  },
  {
   "cell_type": "markdown",
   "metadata": {},
   "source": [
    "## 記名欄(書き忘れた場合採点されない場合があります)"
   ]
  },
  {
   "cell_type": "code",
   "execution_count": 9,
   "metadata": {},
   "outputs": [
    {
     "name": "stdout",
     "output_type": "stream",
     "text": [
      "Bクラス: 名前 様 / 実施日: 2017-11-24\n"
     ]
    }
   ],
   "source": [
    "import datetime\n",
    "YOUR_CLASS = \"B\" # A, B, Cのいずれかを入力 \n",
    "YOUR_NAME = \"名前\" # 日本語（漢字含む）で 姓 名の順に入力\n",
    "# 最後に `Shift + Enter` または `⇧ + Return` で実行してください。\n",
    "\n",
    "print(\"%sクラス: %s 様 / 実施日: %s\" % (YOUR_CLASS, YOUR_NAME, datetime.datetime.now().date()))\n",
    "# ↓に自分のクラスと名前が入力されていることを確認してください。"
   ]
  },
  {
   "cell_type": "markdown",
   "metadata": {},
   "source": [
    "---"
   ]
  },
  {
   "cell_type": "markdown",
   "metadata": {},
   "source": [
    "# 大門1. 知識問題"
   ]
  },
  {
   "cell_type": "markdown",
   "metadata": {},
   "source": [
    "## 問1. \n",
    "現在のカレントディレクトリを表示してください。"
   ]
  },
  {
   "cell_type": "code",
   "execution_count": 1,
   "metadata": {},
   "outputs": [
    {
     "name": "stdout",
     "output_type": "stream",
     "text": [
      "/Users/mitamurashintarou/Downloads\n"
     ]
    }
   ],
   "source": [
    "%%bash\n",
    "pwd\n"
   ]
  },
  {
   "cell_type": "markdown",
   "metadata": {},
   "source": [
    "## 問2.\n",
    "カレントディレクトリを `/etc` に移動してください。"
   ]
  },
  {
   "cell_type": "code",
   "execution_count": 8,
   "metadata": {},
   "outputs": [
    {
     "name": "stdout",
     "output_type": "stream",
     "text": [
      "/etc\n"
     ]
    }
   ],
   "source": [
    "%%bash\n",
    "cd /etc\n",
    "pwd\n"
   ]
  },
  {
   "cell_type": "code",
   "execution_count": null,
   "metadata": {},
   "outputs": [],
   "source": []
  },
  {
   "cell_type": "markdown",
   "metadata": {},
   "source": [
    "## 問3.\n",
    "現在のカレントディレクトリの中身を表示してください"
   ]
  },
  {
   "cell_type": "code",
   "execution_count": 10,
   "metadata": {},
   "outputs": [
    {
     "name": "stdout",
     "output_type": "stream",
     "text": [
      "0510ラルコ_議事録.docx\n",
      "171009 ②個別契約書 (プラットホーム).pdf\n",
      "171009 ①業務委託基本契約書.pdf\n",
      "171009-①-1業務委託基本契約書.pdf\n",
      "171009-⑤個別契約書-_講演セミナー_.pdf\n",
      "171009-④参加申込書.pdf\n",
      "171009-③秘密保持契約書.pdf\n",
      "2018保証証書.pdf\n",
      "3DPhantom_価格表 (1).docx\n",
      "3DPhantom_価格表.docx\n",
      "3DPhantom_動画制作時の諸注意事項.pdf\n",
      "400242_s_wi\n",
      "430581_s_wi\n",
      "670108_s_wi\n",
      "706084_s_wi\n",
      "820835_m_wi\n",
      "9.xlsx\n",
      "980678_s_wi\n",
      "980678_s_wi.zip\n",
      "B.O. 自動売買 契約書一式 (D-ing) 2.docx\n",
      "CITVPlus代理店様登録（変更）情報 (1).xlsx\n",
      "CITVPlus代理店様登録（変更）情報.xlsx\n",
      "ChikouSpan\n",
      "Cyberduck.app\n",
      "Data_Sousa_MASTER.ipynb\n",
      "Dynamic Zone RSI.mq4.txt\n",
      "FileZilla 2.app\n",
      "FileZilla 3.app\n",
      "FileZilla-Installer.app\n",
      "FileZilla.app\n",
      "FileZilla_3.25.2_macosx-x86_setup_bundled.zip\n",
      "FileZilla_3.26.2_macosx-x86.app.tar.bz2\n",
      "FileZilla_3.31.0_macosx-x86.app.tar.bz2\n",
      "Grid Builder.mq4.txt\n",
      "MACD\n",
      "PPTX224_年間予定表テンプレート2.pptx\n",
      "Phantom 製品概要 ver.5.pdf\n",
      "Phantom_sample.mp4 のコピー\n",
      "Phantom_製品概要_ver10.pptx\n",
      "Phantom価格表総合.docx\n",
      "Phantom価格表（決_下代2017_10_24）.pdf\n",
      "ShoeA.mp4 のコピー\n",
      "Skype-8.11.0.4.dmg\n",
      "TENCHUU1_FULL.zip\n",
      "Twitter_API (2).ipynb\n",
      "UNIX_Command_MASTER (1).ipynb\n",
      "UNIX_Command_MASTER.ipynb\n",
      "XMTrading.dmg\n",
      "_HikarinoAkari__AAABEST_(23435).zip\n",
      "bitpoint4_demo_setup.exe\n",
      "bitpoint4_setup (1).exe\n",
      "bitpoint4_setup.exe\n",
      "c_問題.zip\n",
      "doctor_sutorenge_1.mp4 のコピー\n",
      "excelcalendar_yearplanner_2018.xls\n",
      "for_phantom.zip\n",
      "iStock_000009406551_Small.jpg\n",
      "icon_102610_64.png\n",
      "icon_102612_64.png\n",
      "icon_102622_64.png\n",
      "icon_102632_64.png\n",
      "icon_102870_64.jpg\n",
      "icon_102880_64.jpg\n",
      "icon_102890_64.jpg\n",
      "icon_104722_64.png\n",
      "icon_105912_64-1.png\n",
      "icon_105912_64.png\n",
      "icon_106002_64.png\n",
      "influencer_logo2.mp4 のコピー\n",
      "javaforosx.dmg\n",
      "mbid-4bda270e-0df3-4759-b2ce-14e1b90df223_archive.torrent\n",
      "pptx224_nenkanyotei2.zip\n",
      "sakura.mp4 のコピー\n",
      "tatetentai.doc\n",
      "test (3)-1.ipynb\n",
      "test (3)-2.ipynb\n",
      "test (3).ipynb\n",
      "twentyseventeen\n",
      "twentyseventeen.1.2.zip\n",
      "【改訂201802】首都圏用-その他書類（申込書類等）.zip\n",
      "リータ_ース_議事録0426.docx\n",
      "リータ_ース_議事録0621.docx\n",
      "合同会社 D-ing 様_2.pdf\n",
      "事業計画書.pdf\n",
      "借入申込書.pdf\n",
      "マニュアル.pdf.sb-71090c86-OCkqoe\n",
      "業務提携【D-ing様】 (1).docx\n",
      "業務提携【D-ing様】.docx\n",
      "借入申込書_記入例.pdf\n",
      "決済者リスト - シート1.pdf\n",
      "事業用申込書(法人用).pdf\n",
      "代理店様資料.zip\n",
      "パル中目黒102精算書.pdf\n",
      "個人情報同意書(エルズサポート).pdf\n",
      "コピー第二回カルスホ__BAGUS電話一覧表_0807-2.xlsx\n",
      "コピー第二回カルスホ__BAGUS電話一覧表_0807.xlsx\n",
      "エルズサポート保証料案内.pdf\n",
      "※必読【天誅１　アップデートのお知らせ】.pdf\n",
      "【印刷発送の秘書シリーズ】請求書払い申込書.pdf\n"
     ]
    }
   ],
   "source": [
    "%%bash\n",
    "ls"
   ]
  },
  {
   "cell_type": "markdown",
   "metadata": {},
   "source": [
    "## 問4.\n",
    "ファイルのコピーと移動を行うコマンドを入力してください。  \n",
    "コピーを実行する必要はありません。  \n",
    "\n",
    "注意: コマンドのみで実行した場合に `missing file operand`といったエラーが出ますが問題ありません。"
   ]
  },
  {
   "cell_type": "code",
   "execution_count": 37,
   "metadata": {},
   "outputs": [
    {
     "name": "stdout",
     "output_type": "stream",
     "text": [
      "/Users/mitamurashintarou\n",
      "/Users/mitamurashintarou/Desktop\n"
     ]
    }
   ],
   "source": [
    "%%bash\n",
    "cd ..\n",
    "pwd\n",
    "cd Desktop\n",
    "pwd\n",
    "cp hightemp.txt a.txt\n",
    "mv a.txt private"
   ]
  },
  {
   "cell_type": "markdown",
   "metadata": {},
   "source": [
    "# 大門2. 実践編\n"
   ]
  },
  {
   "cell_type": "markdown",
   "metadata": {},
   "source": [
    "以下の問題を解く前に、↓のコマンドを実行してください。  \n",
    "また、問題回答中に間違えてよくわからなくなった場合等も↓のコマンドを再実行することで初期化ができます。"
   ]
  },
  {
   "cell_type": "code",
   "execution_count": 38,
   "metadata": {},
   "outputs": [
    {
     "name": "stdout",
     "output_type": "stream",
     "text": [
      "/tmp\n"
     ]
    }
   ],
   "source": [
    "%%bash \n",
    "\n",
    "echo 'Y2QgL3RtcApwd2QKcm0gLWZSIHVuaXhfdGVzdApta2RpciAtcCB1bml4X3Rlc3QKY2QgdW5peF90\n",
    "ZXN0CkFUQVJJPSJESVJfMi9ESVJfMl8xIgpmb3IgaSBpbiB7MS4uNH0KZG8KICBta2RpciBESVJf\n",
    "JHtpfQogIGNkIERJUl8ke2l9CiAgZm9yIGogaW4gezEuLjR9CiAgZG8KICAgIG1rZGlyIERJUl8k\n",
    "e2l9XyR7an0KICBkb25lCiAgY2QgLi4KZG9uZQplY2hvICJXZWxjb21lIEJBU0ggV29ybGQhIj4g\n",
    "JHtBVEFSSX0vQVRBUkkK' | base64 -D | bash"
   ]
  },
  {
   "cell_type": "markdown",
   "metadata": {},
   "source": [
    "# 問1.\n",
    "`/tmp/unix_test`の中に`ATARI`というファイルがあります。このファイルを探して、ファイルの中身を表示してください。\n",
    "\n",
    "↓のシェルは実行するたびにカレントディレクトリがもとに戻ってしまいます。そこに注意して操作してみてください。"
   ]
  },
  {
   "cell_type": "code",
   "execution_count": 41,
   "metadata": {
    "collapsed": true
   },
   "outputs": [],
   "source": [
    "%%bash\n",
    "\n"
   ]
  },
  {
   "cell_type": "markdown",
   "metadata": {},
   "source": [
    "## 問2.\n",
    "`/etc/group`の行の先頭を表示してください。  \n",
    "すべて表示してはいけません。"
   ]
  },
  {
   "cell_type": "code",
   "execution_count": 43,
   "metadata": {
    "collapsed": true
   },
   "outputs": [],
   "source": [
    "%%bash\n",
    "\n"
   ]
  },
  {
   "cell_type": "markdown",
   "metadata": {},
   "source": [
    "---"
   ]
  },
  {
   "cell_type": "code",
   "execution_count": 5,
   "metadata": {},
   "outputs": [
    {
     "name": "stderr",
     "output_type": "stream",
     "text": [
      "wc: hightemp.txt: open: No such file or directory\n"
     ]
    }
   ],
   "source": [
    "%%bash\n",
    "wc -l hightemp.txt"
   ]
  },
  {
   "cell_type": "markdown",
   "metadata": {},
   "source": [
    "## これで試験は終了です。お疲れ様でした。"
   ]
  }
 ],
 "metadata": {
  "kernelspec": {
   "display_name": "Python 3",
   "language": "python",
   "name": "python3"
  },
  "language_info": {
   "codemirror_mode": {
    "name": "ipython",
    "version": 3
   },
   "file_extension": ".py",
   "mimetype": "text/x-python",
   "name": "python",
   "nbconvert_exporter": "python",
   "pygments_lexer": "ipython3",
   "version": "3.6.3"
  }
 },
 "nbformat": 4,
 "nbformat_minor": 2
}
