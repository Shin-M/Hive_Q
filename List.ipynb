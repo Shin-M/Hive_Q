{
 "cells": [
  {
   "cell_type": "markdown",
   "metadata": {},
   "source": [
    "# Python Cコース リストマスター課題"
   ]
  },
  {
   "cell_type": "markdown",
   "metadata": {},
   "source": [
    "## 問題1\n",
    "ペットショップの入荷順の動物リストが以下のようにある.  \n",
    "このリストから3番目に早く入荷された動物を出力しなさい.  "
   ]
  },
  {
   "cell_type": "code",
   "execution_count": 2,
   "metadata": {},
   "outputs": [
    {
     "name": "stdout",
     "output_type": "stream",
     "text": [
      "cat\n"
     ]
    }
   ],
   "source": [
    "pet_list = [\"dog\", \"bird\", \"cat\", \"flog\", \"snake\"]\n",
    "print(pet_list[2])"
   ]
  },
  {
   "cell_type": "markdown",
   "metadata": {},
   "source": [
    "## 問題2\n",
    "ペットショップに新たにハムスター(rat)が入荷された.  \n",
    "pet_listにratを追加して,リストをfor文を使って出力しなさい."
   ]
  },
  {
   "cell_type": "code",
   "execution_count": 3,
   "metadata": {},
   "outputs": [
    {
     "name": "stdout",
     "output_type": "stream",
     "text": [
      "dog\n",
      "bird\n",
      "cat\n",
      "flog\n",
      "snake\n",
      "rat\n"
     ]
    }
   ],
   "source": [
    "pet_list = [\"dog\", \"bird\", \"cat\", \"flog\", \"snake\"]\n",
    "pet_list.append('rat')\n",
    "for pet in pet_list :\n",
    "    print(pet)"
   ]
  },
  {
   "cell_type": "markdown",
   "metadata": {},
   "source": [
    "## 問題3\n",
    "pet_listの中で文字列が4文字以上のものを出力しなさい."
   ]
  },
  {
   "cell_type": "code",
   "execution_count": 4,
   "metadata": {},
   "outputs": [
    {
     "name": "stdout",
     "output_type": "stream",
     "text": [
      "bird\n",
      "flog\n",
      "snake\n"
     ]
    }
   ],
   "source": [
    "pet_list = [\"dog\", \"bird\", \"cat\", \"flog\", \"snake\"]\n",
    "for pet in pet_list :\n",
    "    if len(pet) >= 4 :\n",
    "        print(pet)"
   ]
  },
  {
   "cell_type": "markdown",
   "metadata": {},
   "source": [
    "## 問題4\n",
    "ペットの名前を入荷されてから遅い順に出力しなさい。  "
   ]
  },
  {
   "cell_type": "code",
   "execution_count": 7,
   "metadata": {},
   "outputs": [
    {
     "name": "stdout",
     "output_type": "stream",
     "text": [
      "snake\n",
      "flog\n",
      "cat\n",
      "bird\n",
      "dog\n"
     ]
    }
   ],
   "source": [
    "pet_list = [\"dog\", \"bird\", \"cat\", \"flog\", \"snake\"]\n",
    "for pet in reversed(pet_list) :\n",
    "    print(pet)\n",
    "    "
   ]
  },
  {
   "cell_type": "markdown",
   "metadata": {},
   "source": [
    "## 問題5\n",
    "ペットの名前に加え、ペットの年齢が書いてあるリストが以下にある.  \n",
    "このリストを利用して、猫の年齢を出力しなさい."
   ]
  },
  {
   "cell_type": "code",
   "execution_count": 2,
   "metadata": {
    "collapsed": true
   },
   "outputs": [],
   "source": [
    "pet_agelist = [ [\"dog\", \"bird\", \"cat\", \"flog\", \"snake\", \"rat\"], [10, 4, 5, 1, 4, 3]]"
   ]
  },
  {
   "cell_type": "code",
   "execution_count": 10,
   "metadata": {},
   "outputs": [
    {
     "name": "stdout",
     "output_type": "stream",
     "text": [
      "5\n"
     ]
    }
   ],
   "source": [
    "pet_agelist = [ [\"dog\", \"bird\", \"cat\", \"flog\", \"snake\", \"rat\"], [10, 4, 5, 1, 4, 3]]\n",
    "print(pet_agelist[1][2])"
   ]
  },
  {
   "cell_type": "markdown",
   "metadata": {},
   "source": [
    "## 問題6\n",
    "ペットの名前を年齢順に出力しなさい。  \n",
    "リストだけでは難しいので、辞書やラムダ式を使ってもいいものとする"
   ]
  },
  {
   "cell_type": "code",
   "execution_count": 12,
   "metadata": {},
   "outputs": [
    {
     "name": "stdout",
     "output_type": "stream",
     "text": [
      "flog:1\n",
      "rat:3\n",
      "bird:4\n",
      "snake:4\n",
      "cat:5\n",
      "dog:10\n"
     ]
    }
   ],
   "source": [
    "pet_dic = {'dog':10 , 'bird':4 ,'cat':5 , 'flog':1 ,'snake':4 , 'rat': 3}\n",
    "pet_dic2 = sorted(pet_dic.items(), key=lambda x : x[1])\n",
    "\n",
    "for k,v in pet_dic2 :\n",
    "    print(str(k) + ':' + str(v))"
   ]
  },
  {
   "cell_type": "code",
   "execution_count": null,
   "metadata": {
    "collapsed": true
   },
   "outputs": [],
   "source": []
  },
  {
   "cell_type": "markdown",
   "metadata": {},
   "source": [
    "## 問題7\n",
    "４歳のペットの数を出力しなさい。  \n",
    "ただしこのプログラムは一行のみしか出力できない。  "
   ]
  },
  {
   "cell_type": "code",
   "execution_count": 23,
   "metadata": {},
   "outputs": [
    {
     "name": "stdout",
     "output_type": "stream",
     "text": [
      "2\n"
     ]
    }
   ],
   "source": [
    "pet_dic = {'dog':10 , 'bird':4 ,'cat':5 , 'flog':1 ,'snake':4 , 'rat': 3}\n",
    "\n",
    "search_age = 4\n",
    "pet_num = 0\n",
    "for name, age in pet_dic.items():\n",
    "    if age == search_age : pet_num += 1\n",
    "print(pet_num)"
   ]
  },
  {
   "cell_type": "code",
   "execution_count": null,
   "metadata": {
    "collapsed": true
   },
   "outputs": [],
   "source": []
  },
  {
   "cell_type": "markdown",
   "metadata": {},
   "source": [
    "## 問題8\n",
    "カエルが購入された。  \n",
    "リストからカエルのリストを削除しなさい。  "
   ]
  },
  {
   "cell_type": "code",
   "execution_count": 27,
   "metadata": {},
   "outputs": [
    {
     "name": "stdout",
     "output_type": "stream",
     "text": [
      "{'dog': 10, 'bird': 4, 'cat': 5, 'snake': 4, 'rat': 3}\n"
     ]
    }
   ],
   "source": [
    "pet_dic = {'dog':10 , 'bird':4 ,'cat':5 , 'flog':1 ,'snake':4 , 'rat': 3}\n",
    "\n",
    "del pet_dic['flog']\n",
    "print(pet_dic)"
   ]
  },
  {
   "cell_type": "markdown",
   "metadata": {},
   "source": [
    "## 問題9\n",
    "年齢を加えたリストを利用して、名前と年齢をそれぞれ出力しなさい。    \n",
    "但し, For文とWhile文はどちらか一つしか使えないとする  \n",
    "出力例:  \n",
    "dog, 10  \n",
    "bird, 4"
   ]
  },
  {
   "cell_type": "code",
   "execution_count": 32,
   "metadata": {},
   "outputs": [
    {
     "name": "stdout",
     "output_type": "stream",
     "text": [
      "dog 10\n",
      "bird 4\n",
      "cat 5\n",
      "flog 1\n",
      "snake 4\n",
      "rat 3\n"
     ]
    }
   ],
   "source": [
    "pet_agelist = [ [\"dog\", \"bird\", \"cat\", \"flog\", \"snake\", \"rat\"], [10, 4, 5, 1, 4, 3]]\n",
    "for pet, age in zip(pet_agelist[0],pet_agelist[1]):\n",
    "    print(pet,age)"
   ]
  },
  {
   "cell_type": "markdown",
   "metadata": {},
   "source": [
    "## 問題10\n",
    "pet_agelistを元にKeyを動物名,Valueを年齢とする辞書型の変数を作りなさい.  "
   ]
  },
  {
   "cell_type": "code",
   "execution_count": 56,
   "metadata": {
    "collapsed": true
   },
   "outputs": [],
   "source": [
    "dict1 = {}"
   ]
  },
  {
   "cell_type": "code",
   "execution_count": 57,
   "metadata": {},
   "outputs": [
    {
     "data": {
      "text/plain": [
       "{'dog': 10}"
      ]
     },
     "execution_count": 57,
     "metadata": {},
     "output_type": "execute_result"
    }
   ],
   "source": [
    "dict1[\"dog\"] = 10\n",
    "dict1"
   ]
  },
  {
   "cell_type": "code",
   "execution_count": 58,
   "metadata": {},
   "outputs": [
    {
     "name": "stdout",
     "output_type": "stream",
     "text": [
      "{'dog': 10, 'bird': 4, 'cat': 5, 'flog': 1, 'snake': 4, 'rat': 3}\n"
     ]
    }
   ],
   "source": [
    "pet_agelist = [ [\"dog\", \"bird\", \"cat\", \"flog\", \"snake\", \"rat\"], [10, 4, 5, 1, 4, 3]]\n",
    "for pet, age in zip(pet_agelist[0], pet_agelist[1]):\n",
    "    dict1[pet] = age\n",
    "print(dict1)"
   ]
  },
  {
   "cell_type": "markdown",
   "metadata": {},
   "source": [
    "## 問題11\n",
    "ペットショップに新たに7歳のトカゲ(lizard)が入荷された。  \n",
    "問題6で作った辞書型にトカゲを加えて、辞書の名前と年齢をFor文を使って出力しなさい。  "
   ]
  },
  {
   "cell_type": "code",
   "execution_count": 48,
   "metadata": {},
   "outputs": [
    {
     "name": "stdout",
     "output_type": "stream",
     "text": [
      "dog 10\n",
      "bird 4\n",
      "cat 5\n",
      "flog 1\n",
      "snake 4\n",
      "rat 3\n",
      "lizard 7\n"
     ]
    }
   ],
   "source": [
    "pet_dic = {'dog':10 , 'bird':4 ,'cat':5 , 'flog':1 ,'snake':4 , 'rat': 3}\n",
    "pet_dic['lizard'] = 7\n",
    "for name, age in pet_dic.items():\n",
    "    print(name, age)"
   ]
  },
  {
   "cell_type": "markdown",
   "metadata": {},
   "source": [
    "## 問題12\n",
    "辞書を使って5歳以下の動物の名前を出力しなさい。  "
   ]
  },
  {
   "cell_type": "code",
   "execution_count": 51,
   "metadata": {},
   "outputs": [
    {
     "name": "stdout",
     "output_type": "stream",
     "text": [
      "bird\n",
      "cat\n",
      "flog\n",
      "snake\n",
      "rat\n"
     ]
    }
   ],
   "source": [
    "pet_dic = {'dog':10 , 'bird':4 ,'cat':5 , 'flog':1 ,'snake':4 , 'rat': 3}\n",
    "pet_dic['lizard'] = 7\n",
    "\n",
    "search_age = 5\n",
    "for name, age in pet_dic.items():\n",
    "    if age <= search_age:\n",
    "        print(name)"
   ]
  },
  {
   "cell_type": "markdown",
   "metadata": {},
   "source": [
    "## 問題13\n",
    "以下にそれぞれの動物の入荷経過日数のリストがある  \n",
    "このリストの情報を辞書にいれなさい  \n",
    "辞書の入れ方の例：  \n",
    "\n",
    "```python\n",
    "test_list = { \"SeitoA\": [ 20, 30, 40],  \"SeitoB\": [99, 77, 50], \"SeitoC\": [88, 66, 30]}\n",
    "```"
   ]
  },
  {
   "cell_type": "code",
   "execution_count": 3,
   "metadata": {
    "collapsed": true
   },
   "outputs": [],
   "source": [
    "day_list = [60, 45, 41, 30, 22, 19]"
   ]
  },
  {
   "cell_type": "code",
   "execution_count": null,
   "metadata": {
    "collapsed": true
   },
   "outputs": [],
   "source": [
    "pet_dic = {'dog':[10,60] , 'bird':[4,45] ,'cat':[5,41] , 'flog':[1,30] ,'snake':[4,22] , 'rat':[3,19]}"
   ]
  },
  {
   "cell_type": "markdown",
   "metadata": {},
   "source": [
    "## 問題14\n",
    "入荷日数が30日以上経っていて5歳以上の動物を辞書を使って出力しなさい"
   ]
  },
  {
   "cell_type": "code",
   "execution_count": 17,
   "metadata": {},
   "outputs": [
    {
     "name": "stdout",
     "output_type": "stream",
     "text": [
      "dog\n",
      "cat\n"
     ]
    }
   ],
   "source": [
    "pet_dic = {'dog':[10,60] , 'bird':[4,45] ,'cat':[5,41] , 'flog':[1,30] ,'snake':[4,22] , 'rat':[3,19]}\n",
    "search_age = 5\n",
    "search_day = 30\n",
    "for name in pet_dic.keys():\n",
    "    if pet_dic[name][0] >= search_age:\n",
    "        if pet_dic[name][1] >= search_day:\n",
    "            print(name)"
   ]
  },
  {
   "cell_type": "code",
   "execution_count": 10,
   "metadata": {},
   "outputs": [
    {
     "data": {
      "text/plain": [
       "10"
      ]
     },
     "execution_count": 10,
     "metadata": {},
     "output_type": "execute_result"
    }
   ],
   "source": [
    "pet_dic['dog'][0]"
   ]
  },
  {
   "cell_type": "code",
   "execution_count": null,
   "metadata": {
    "collapsed": true
   },
   "outputs": [],
   "source": []
  }
 ],
 "metadata": {
  "kernelspec": {
   "display_name": "Python 3",
   "language": "python",
   "name": "python3"
  },
  "language_info": {
   "codemirror_mode": {
    "name": "ipython",
    "version": 3
   },
   "file_extension": ".py",
   "mimetype": "text/x-python",
   "name": "python",
   "nbconvert_exporter": "python",
   "pygments_lexer": "ipython3",
   "version": "3.6.3"
  }
 },
 "nbformat": 4,
 "nbformat_minor": 2
}
